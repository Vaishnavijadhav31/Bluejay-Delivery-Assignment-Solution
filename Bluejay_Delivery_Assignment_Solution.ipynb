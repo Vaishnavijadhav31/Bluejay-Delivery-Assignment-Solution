{
  "nbformat": 4,
  "nbformat_minor": 0,
  "metadata": {
    "colab": {
      "provenance": []
    },
    "kernelspec": {
      "name": "python3",
      "display_name": "Python 3"
    },
    "language_info": {
      "name": "python"
    }
  },
  "cells": [
    {
      "cell_type": "code",
      "execution_count": null,
      "metadata": {
        "id": "QU2nUeqeZrht"
      },
      "outputs": [],
      "source": [
        "import pandas as pd\n",
        "from datetime import datetime, timedelta"
      ]
    },
    {
      "cell_type": "code",
      "source": [
        "# Load Excel file into a DataFrame\n",
        "file_path = '/Assignment_Timecard.xlsx'\n",
        "df = pd.read_excel(file_path)"
      ],
      "metadata": {
        "id": "z_G8CqdmetEK"
      },
      "execution_count": 11,
      "outputs": []
    },
    {
      "cell_type": "code",
      "source": [
        "# Rename columns\n",
        "df = df.rename(columns={\n",
        "    'position id': 'Position ID',\n",
        "    'position status': 'Position Status',\n",
        "    'time': 'Time',\n",
        "    'time_out': 'Time Out',\n",
        "    'timecard': 'Timecard Hours (as Time)',\n",
        "    'pay cycle': 'Pay Cycle End Date',\n",
        "    'emp name': 'Employee Name',\n",
        "    'file number': 'File Number'\n",
        "})"
      ],
      "metadata": {
        "id": "r5EOWBPXe9g0"
      },
      "execution_count": 12,
      "outputs": []
    },
    {
      "cell_type": "code",
      "source": [
        "# Function to convert timecard to timedelta\n",
        "def convert_to_timedelta(time_str_or_float):\n",
        "    if pd.isna(time_str_or_float):\n",
        "        return timedelta(hours=0, minutes=0)\n",
        "\n",
        "    if isinstance(time_str_or_float, float):\n",
        "        hours = int(time_str_or_float)\n",
        "        minutes = int((time_str_or_float - hours) * 60)\n",
        "    elif isinstance(time_str_or_float, str):\n",
        "        hours, minutes = map(int, time_str_or_float.split(':'))\n",
        "    else:\n",
        "        raise ValueError(\"Invalid time format\")\n",
        "\n",
        "    return timedelta(hours=hours, minutes=minutes)"
      ],
      "metadata": {
        "id": "oTrHu3AnfAnt"
      },
      "execution_count": 13,
      "outputs": []
    },
    {
      "cell_type": "code",
      "source": [
        "# Convert time columns to datetime objects\n",
        "df['Time'] = pd.to_datetime(df['Time'])\n",
        "df['Time Out'] = pd.to_datetime(df['Time Out'])\n",
        "df['Pay Cycle End Date'] = pd.to_datetime(df['Pay Cycle End Date'])"
      ],
      "metadata": {
        "id": "KX0pZT_6fDcE"
      },
      "execution_count": 14,
      "outputs": []
    },
    {
      "cell_type": "code",
      "source": [
        "# Convert timecard to timedelta\n",
        "df['Timecard Hours (as Time)'] = df['Timecard Hours (as Time)'].apply(convert_to_timedelta)"
      ],
      "metadata": {
        "id": "ALdO0MMRfHVO"
      },
      "execution_count": 15,
      "outputs": []
    },
    {
      "cell_type": "code",
      "source": [
        "# Filter employees who worked for 7 consecutive days\n",
        "consecutive_days = 7\n",
        "consecutive_days_mask = df.groupby('Employee Name')['Time'].diff().dt.days.eq(1)\n",
        "consecutive_days_employees = df[consecutive_days_mask].drop_duplicates(subset='Employee Name')\n",
        "print(\"Employees who worked for 7 consecutive days:\")\n",
        "print(consecutive_days_employees[['Employee Name', 'Position ID']])"
      ],
      "metadata": {
        "colab": {
          "base_uri": "https://localhost:8080/"
        },
        "id": "T0tQJBUxfMWG",
        "outputId": "6b09fc64-4102-49ea-b18d-193f59713452"
      },
      "execution_count": 19,
      "outputs": [
        {
          "output_type": "stream",
          "name": "stdout",
          "text": [
            "Employees who worked for 7 consecutive days:\n",
            "                    Employee Name Position ID\n",
            "36                Sparks, KeWWeMh   WFS000101\n",
            "75                  Arias, FeXipe   WFS000170\n",
            "106                GarWes, JAsMiW   WFS000181\n",
            "126                 FeXix, XeEWeX   WFS000183\n",
            "179                    Xee, XaCar   WFS000200\n",
            "...                           ...         ...\n",
            "1388   De XEs SaWMEs, JEseph XAis   WFS000582\n",
            "1399        ViXXa, AXfredE AieXXE   WFS000583\n",
            "1412     ArCeWMa FXEres, JEWaMhaW   WFS000584\n",
            "1434  RaCEs HerWaWdez, AdieX ECar   WFS000585\n",
            "1453       XariEs, Cesar GiEvaWWi   WFS000587\n",
            "\n",
            "[68 rows x 2 columns]\n"
          ]
        }
      ]
    },
    {
      "cell_type": "code",
      "source": [
        "# Filter employees with less than 10 hours between shifts\n",
        "min_hours_between_shifts = 1\n",
        "max_hours_between_shifts = 10\n",
        "less_than_10_hours_mask = (df['Time'].diff() < timedelta(hours=max_hours_between_shifts)) & (df['Time'].diff() > timedelta(hours=min_hours_between_shifts))\n",
        "less_than_10_hours_employees = df[less_than_10_hours_mask].drop_duplicates(subset='Employee Name')\n",
        "print(\"\\nEmployees with less than 10 hours between shifts but greater than 1 hour:\")\n",
        "print(less_than_10_hours_employees[['Employee Name', 'Position ID']])"
      ],
      "metadata": {
        "colab": {
          "base_uri": "https://localhost:8080/"
        },
        "id": "Z6y0eA2lfR1O",
        "outputId": "ef3e0b5b-eb26-4467-aa55-bf46503523a2"
      },
      "execution_count": 20,
      "outputs": [
        {
          "output_type": "stream",
          "name": "stdout",
          "text": [
            "\n",
            "Employees with less than 10 hours between shifts but greater than 1 hour:\n",
            "                    Employee Name Position ID\n",
            "2                 REsaXiaWE, XAis   WFS000065\n",
            "21                Sparks, KeWWeMh   WFS000101\n",
            "41            GaXCes, EXias XEpez   WFS000127\n",
            "53               CaMaXaWE, CeghaW   WFS000153\n",
            "72                  Arias, FeXipe   WFS000170\n",
            "...                           ...         ...\n",
            "1409     ArCeWMa FXEres, JEWaMhaW   WFS000584\n",
            "1427  RaCEs HerWaWdez, AdieX ECar   WFS000585\n",
            "1444       XariEs, Cesar GiEvaWWi   WFS000587\n",
            "1464     AGeX, WaMhaW REGerM PeWa   WFS000588\n",
            "1474              WgAyeW, RayCEWd   WFS000589\n",
            "\n",
            "[96 rows x 2 columns]\n"
          ]
        }
      ]
    },
    {
      "cell_type": "code",
      "source": [
        "# Filter employees who worked more than 14 hours in a single shift\n",
        "max_hours_single_shift = 14\n",
        "more_than_14_hours_mask = (df['Time Out'] - df['Time']) > timedelta(hours=max_hours_single_shift)\n",
        "more_than_14_hours_employees = df[more_than_14_hours_mask].drop_duplicates(subset='Employee Name')\n",
        "print(\"\\nEmployees who worked for more than 14 hours in a single shift:\")\n",
        "print(more_than_14_hours_employees[['Employee Name', 'Position ID']])"
      ],
      "metadata": {
        "colab": {
          "base_uri": "https://localhost:8080/"
        },
        "id": "YYbqS1FYfevF",
        "outputId": "4530fd65-96b6-47d9-d881-6091dd6773a9"
      },
      "execution_count": 22,
      "outputs": [
        {
          "output_type": "stream",
          "name": "stdout",
          "text": [
            "\n",
            "Employees who worked for more than 14 hours in a single shift:\n",
            "                        Employee Name Position ID\n",
            "1036  DeXgadiXXE REdarMe, ChrisMiaW S   WFS000523\n"
          ]
        }
      ]
    },
    {
      "cell_type": "code",
      "source": [
        "output_file_path = '/output.txt'\n",
        "with open(output_file_path, 'w') as output_file:\n",
        "    output_file.write(\"Employees who worked for 7 consecutive days:\\n\")\n",
        "    output_file.write(consecutive_days_employees[['Employee Name', 'Position ID']].to_string(index=False))\n",
        "    output_file.write(\"\\n\\nEmployees with less than 10 hours between shifts but greater than 1 hour:\\n\")\n",
        "    output_file.write(less_than_10_hours_employees[['Employee Name', 'Position ID']].to_string(index=False))\n",
        "    output_file.write(\"\\n\\nEmployees who worked for more than 14 hours in a single shift:\\n\")\n",
        "    output_file.write(more_than_14_hours_employees[['Employee Name', 'Position ID']].to_string(index=False))"
      ],
      "metadata": {
        "id": "8jF7LovdfpH5"
      },
      "execution_count": 25,
      "outputs": []
    },
    {
      "cell_type": "code",
      "source": [
        "from google.colab import drive\n",
        "drive.mount('/content/drive')"
      ],
      "metadata": {
        "id": "QyNm8uEkZ7Wf"
      },
      "execution_count": null,
      "outputs": []
    }
  ]
}